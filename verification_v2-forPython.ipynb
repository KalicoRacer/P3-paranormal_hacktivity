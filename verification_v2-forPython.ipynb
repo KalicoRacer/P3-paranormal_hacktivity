{
 "cells": [
  {
   "cell_type": "code",
   "execution_count": 5,
   "metadata": {},
   "outputs": [],
   "source": [
    "import cv2\n",
    "import tensorflow as tf\n",
    "import os\n",
    "from tensorflow.keras.preprocessing import image\n",
    "import numpy as np\n",
    "from tensorflow import keras\n",
    "from tensorflow.keras.models import load_model"
   ]
  },
  {
   "cell_type": "code",
   "execution_count": 6,
   "metadata": {},
   "outputs": [],
   "source": [
    "# def predict(image_path):\n",
    "#     \"\"\"Use VGG19 to label image\"\"\"\n",
    "#     img = image.load_img(image_path, target_size=image_size)\n",
    "#     x = image.img_to_array(img)\n",
    "#     x = np.expand_dims(x, axis=0)\n",
    "#     x = preprocess_input(x)\n",
    "#     model = load_model('animlas10.h5')\n",
    "#     predictions = model.predict(x)\n",
    "#     return decode_predictions(predictions, top=3)"
   ]
  },
  {
   "cell_type": "code",
   "execution_count": 10,
   "metadata": {},
   "outputs": [],
   "source": [
    "# create function to parse the image and predict\n",
    "def prepare(filepath):\n",
    "    IMG_SIZE = 100\n",
    "    x = cv2.imread(filepath, cv2.IMREAD_GRAYSCALE)\n",
    "    x = cv2.resize(x, (IMG_SIZE,IMG_SIZE))\n",
    "    x = x.reshape(-1, IMG_SIZE, IMG_SIZE, 1)\n",
    "    x = tf.cast(x, tf.float32)\n",
    "    return x\n",
    "    \n",
    "    \n",
    "def predict(filepath):    \n",
    "    CATEGORIES = ['Dog','Cat']\n",
    "    model = load_model(\"catsdogs.model\")\n",
    "    predictions = model.predict([prepare(filepath)])\n",
    "    return CATEGORIES[int(predictions[0][0])]\n",
    "    "
   ]
  },
  {
   "cell_type": "code",
   "execution_count": 11,
   "metadata": {},
   "outputs": [
    {
     "name": "stdout",
     "output_type": "stream",
     "text": [
      "Cat\n"
     ]
    }
   ],
   "source": [
    "# # read image and predict\n",
    "filepath = os.path.join(\"testing_cat.jpg\")\n",
    "# a = tf.cast(prepare(filepath), tf.float32)\n",
    "\n",
    "#print((a))\n",
    "print(predict(filepath))"
   ]
  },
  {
   "cell_type": "code",
   "execution_count": 12,
   "metadata": {},
   "outputs": [
    {
     "name": "stdout",
     "output_type": "stream",
     "text": [
      "tf.Tensor(\n",
      "[[[[ 1.]\n",
      "   [ 2.]\n",
      "   [ 2.]\n",
      "   ...\n",
      "   [36.]\n",
      "   [27.]\n",
      "   [19.]]\n",
      "\n",
      "  [[ 2.]\n",
      "   [ 1.]\n",
      "   [ 2.]\n",
      "   ...\n",
      "   [29.]\n",
      "   [18.]\n",
      "   [13.]]\n",
      "\n",
      "  [[ 1.]\n",
      "   [ 2.]\n",
      "   [ 3.]\n",
      "   ...\n",
      "   [21.]\n",
      "   [13.]\n",
      "   [ 7.]]\n",
      "\n",
      "  ...\n",
      "\n",
      "  [[ 2.]\n",
      "   [ 4.]\n",
      "   [16.]\n",
      "   ...\n",
      "   [19.]\n",
      "   [12.]\n",
      "   [ 7.]]\n",
      "\n",
      "  [[ 2.]\n",
      "   [ 5.]\n",
      "   [17.]\n",
      "   ...\n",
      "   [19.]\n",
      "   [13.]\n",
      "   [ 7.]]\n",
      "\n",
      "  [[ 2.]\n",
      "   [ 7.]\n",
      "   [19.]\n",
      "   ...\n",
      "   [19.]\n",
      "   [13.]\n",
      "   [ 6.]]]], shape=(1, 100, 100, 1), dtype=float32)\n"
     ]
    }
   ],
   "source": [
    "print((a))"
   ]
  },
  {
   "cell_type": "code",
   "execution_count": null,
   "metadata": {},
   "outputs": [],
   "source": []
  }
 ],
 "metadata": {
  "kernelspec": {
   "display_name": "Python 3",
   "language": "python",
   "name": "python3"
  },
  "language_info": {
   "codemirror_mode": {
    "name": "ipython",
    "version": 3
   },
   "file_extension": ".py",
   "mimetype": "text/x-python",
   "name": "python",
   "nbconvert_exporter": "python",
   "pygments_lexer": "ipython3",
   "version": "3.7.3"
  }
 },
 "nbformat": 4,
 "nbformat_minor": 2
}
