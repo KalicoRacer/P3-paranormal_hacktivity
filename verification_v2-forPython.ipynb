{
 "cells": [
  {
   "cell_type": "code",
   "execution_count": 1,
   "metadata": {},
   "outputs": [],
   "source": [
    "import cv2\n",
    "import tensorflow as tf\n",
    "import os\n",
    "from tensorflow.keras.preprocessing import image\n",
    "import numpy as np\n",
    "from tensorflow import keras\n",
    "from tensorflow.keras.models import load_model"
   ]
  },
  {
   "cell_type": "code",
   "execution_count": 2,
   "metadata": {},
   "outputs": [],
   "source": [
    "# def predict(image_path):\n",
    "#     \"\"\"Use VGG19 to label image\"\"\"\n",
    "#     img = image.load_img(image_path, target_size=image_size)\n",
    "#     x = image.img_to_array(img)\n",
    "#     x = np.expand_dims(x, axis=0)\n",
    "#     x = preprocess_input(x)\n",
    "#     model = load_model('animlas10.h5')\n",
    "#     predictions = model.predict(x)\n",
    "#     return decode_predictions(predictions, top=3)"
   ]
  },
  {
   "cell_type": "code",
   "execution_count": null,
   "metadata": {},
   "outputs": [],
   "source": [
    "# create function to parse the image and predict\n",
    "def prepare(filepath):\n",
    "    IMG_SIZE = 100\n",
    "    x = cv2.imread(filepath, cv2.IMREAD_GRAYSCALE)\n",
    "    x = cv2.resize(x, (IMG_SIZE,IMG_SIZE))\n",
    "    return x.reshape(-1, IMG_SIZE, IMG_SIZE, 1)\n",
    "    \n",
    "    \n",
    "def predict(a):    \n",
    "    CATEGORIES = ['Dog','Cat']\n",
    "    model = load_model(\"catsdogs.model\")\n",
    "    predictions = model.predict([prepare(filepath)])\n",
    "    return CATEGORIES[int(prediction[0][0])]\n",
    "    "
   ]
  },
  {
   "cell_type": "code",
   "execution_count": null,
   "metadata": {},
   "outputs": [],
   "source": [
    "# read image and predict\n",
    "filepath = os.path.join(\"testing_cat.jpg\")\n",
    "a = tf.cast(prepare(filepath), tf.float32)\n",
    "\n",
    "#print((a))\n",
    "print(predict(a))"
   ]
  },
  {
   "cell_type": "code",
   "execution_count": null,
   "metadata": {},
   "outputs": [],
   "source": [
    "print((a))"
   ]
  },
  {
   "cell_type": "code",
   "execution_count": null,
   "metadata": {},
   "outputs": [],
   "source": []
  }
 ],
 "metadata": {
  "kernelspec": {
   "display_name": "Python 3",
   "language": "python",
   "name": "python3"
  },
  "language_info": {
   "codemirror_mode": {
    "name": "ipython",
    "version": 3
   },
   "file_extension": ".py",
   "mimetype": "text/x-python",
   "name": "python",
   "nbconvert_exporter": "python",
   "pygments_lexer": "ipython3",
   "version": "3.7.3"
  }
 },
 "nbformat": 4,
 "nbformat_minor": 2
}
